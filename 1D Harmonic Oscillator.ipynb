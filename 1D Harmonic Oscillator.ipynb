{
 "cells": [
  {
   "cell_type": "code",
   "execution_count": 1,
   "metadata": {},
   "outputs": [],
   "source": [
    "import numpy as np\n",
    "import random as r"
   ]
  },
  {
   "cell_type": "code",
   "execution_count": 2,
   "metadata": {},
   "outputs": [],
   "source": [
    "def V(m,w,x):\n",
    "    return m*pow(w*x,2)/2"
   ]
  },
  {
   "cell_type": "code",
   "execution_count": 3,
   "metadata": {},
   "outputs": [
    {
     "data": {
      "text/plain": [
       "8.0"
      ]
     },
     "execution_count": 3,
     "metadata": {},
     "output_type": "execute_result"
    }
   ],
   "source": [
    "V(1,2,2)"
   ]
  },
  {
   "cell_type": "code",
   "execution_count": 4,
   "metadata": {},
   "outputs": [],
   "source": [
    "def P(beta,x,m,w):# Boltzman Factor\n",
    "    return np.exp(-beta*V(m,w,x))"
   ]
  },
  {
   "cell_type": "code",
   "execution_count": 5,
   "metadata": {},
   "outputs": [
    {
     "data": {
      "text/plain": [
       "2.031092662734811e-42"
      ]
     },
     "execution_count": 5,
     "metadata": {},
     "output_type": "execute_result"
    }
   ],
   "source": [
    "P(1,2,3,4)"
   ]
  },
  {
   "cell_type": "code",
   "execution_count": 10,
   "metadata": {},
   "outputs": [],
   "source": [
    "#Metropolis random walk\n",
    "#Here measure is any Observable that I wish to meassure\n",
    "m=1\n",
    "w=1\n",
    "def Metropolis(x_in,beta,N,measure):\n",
    "    global P\n",
    "    av=0   #Average\n",
    "    av2=0  #Square Average\n",
    "    x=x_in\n",
    "    rejected=0\n",
    "    for i in range(int(N)):\n",
    "        move=r.uniform(-1,1)\n",
    "        x_new=x+move\n",
    "        propratio=P(beta,x_new,1,1)/P(beta,x,1,1)\n",
    "        if propratio<1:\n",
    "            if propratio<r.uniform(0,1):\n",
    "                rejected+=1\n",
    "                x_new=x\n",
    "        x=x_new\n",
    "        m=V(1,1,x)\n",
    "        av+=m\n",
    "        av2+=m*m\n",
    "        return [beta,rejected/(1.0*N),x,av/N,av2/N]\n",
    "        "
   ]
  },
  {
   "cell_type": "code",
   "execution_count": 11,
   "metadata": {
    "scrolled": true
   },
   "outputs": [
    {
     "name": "stdout",
     "output_type": "stream",
     "text": [
      "10000\n",
      "10000\n",
      "10000\n",
      "10000\n",
      "10000\n",
      "10000\n",
      "10000\n"
     ]
    },
    {
     "name": "stderr",
     "output_type": "stream",
     "text": [
      "C:\\Users\\Uddhav Sen\\anaconda3\\lib\\site-packages\\ipykernel_launcher.py:14: RuntimeWarning: divide by zero encountered in double_scalars\n",
      "  \n",
      "C:\\Users\\Uddhav Sen\\anaconda3\\lib\\site-packages\\ipykernel_launcher.py:14: RuntimeWarning: invalid value encountered in double_scalars\n",
      "  \n"
     ]
    }
   ],
   "source": [
    "N=10000\n",
    "for col1, col2, col3, col4, col5 in ([Metropolis(r.uniform(-1,1),N,beta,V)for beta in np.arange(1.0,4.1,0.5)]):\n",
    "    print (col1)\n",
    "    "
   ]
  },
  {
   "cell_type": "code",
   "execution_count": null,
   "metadata": {},
   "outputs": [],
   "source": [
    "\n"
   ]
  },
  {
   "cell_type": "code",
   "execution_count": null,
   "metadata": {},
   "outputs": [],
   "source": []
  }
 ],
 "metadata": {
  "kernelspec": {
   "display_name": "Python 3",
   "language": "python",
   "name": "python3"
  },
  "language_info": {
   "codemirror_mode": {
    "name": "ipython",
    "version": 3
   },
   "file_extension": ".py",
   "mimetype": "text/x-python",
   "name": "python",
   "nbconvert_exporter": "python",
   "pygments_lexer": "ipython3",
   "version": "3.7.6"
  }
 },
 "nbformat": 4,
 "nbformat_minor": 4
}
